{
  "nbformat": 4,
  "nbformat_minor": 0,
  "metadata": {
    "colab": {
      "provenance": []
    },
    "kernelspec": {
      "name": "python3",
      "display_name": "Python 3"
    },
    "language_info": {
      "name": "python"
    }
  },
  "cells": [
    {
      "cell_type": "markdown",
      "source": [
        "# OOPS Assignment\n",
        "\n",
        "1. What is Object-Oriented Programming (OOP)?\n",
        "\n",
        "  - OOPS refers to object oriented programming language which helps in organizing functions or codes and promotes in code reusability,it helps in creating classes and objects.\n",
        "  - abstraction,polymorphishm,inheritance,encapsulation are all the features of object oriented programming language.(OOPS)\n",
        "\n",
        "2. What is a class in OOP?\n",
        "\n",
        "  - A class is acts as blueprint for creating any objects in it,it is a collection of functions in it that can be accessed by defining the class.\n",
        "  <br>e.g class Car:\n",
        "\n",
        "3. What is an object in OOP?\n",
        "\n",
        "  - an object of a class is the initialization of the class it can be assigned any default value according to the structure of the class or even its own.<br>e.g<br>class car:<br>\n",
        "  def value(self,price):<br>\n",
        "\n",
        "    price=10<br>\n",
        "    return f\"value of the car is {price}\"<br>\n",
        "a=car()<br>\n",
        "print(a.value())    <br>\n",
        "// value of the car is 10\n",
        "\n",
        "4. What is the difference between abstraction and encapsulation?\n",
        "\n",
        "  - abstraction in python refers to the hiding or not exposing the code to the user allowing him to only access the essential details.\n",
        "  - encapsulation helps in binding of data and the methods restricting the direct access through the variable this improves the security .\n",
        "\n",
        "5. What are dunder methods in Python?\n",
        "\n",
        "  - dunder methods sometimes also called as magic methods are special kind of methods used to define behaviour for built in operations such as: __init__,__str__,__repr_,etc.<br>\n",
        "  __init__ method is used for automatically initializing an object of a class.\n",
        "\n",
        "6. Explain the concept of inheritance in OOP.\n",
        "\n",
        "  - the inheritance is one of the pillars of object oriented programming language as it allows the user to inherit methods or functions from the parent or multiple parent class to the child class even having its own methods and variables this promotes the reusability of code and avoids complex coding structure.<br>\n",
        "  e.g<br>\n",
        "  class dad:<br>\n",
        "  &emsp; def hair(self):<br>\n",
        "  &emsp;&emsp; color='brown'<br>\n",
        "\n",
        "  print(f'dads hair color is {color}')<br>\n",
        "  class son(dad):<br>\n",
        "  &emsp;def eye(self):<br>\n",
        "  &emsp;&emsp;color='black'<br>\n",
        "  &emsp;&emsp;print(f'sons eye color is {color}')<br>\n",
        "  a=son()<br>\n",
        "  a.eye() // sons eye color is black\n",
        "\n",
        "7. What is polymorphism in OOP?\n",
        "\n",
        "  - polymorphism in python refers to the objects capacity to have several forms taken enabling us to perform a single tasks in many ways.<br>there are 2 types of polymorphism :<br>1.method overloading <br>2.method overriding\n",
        "\n",
        "\n",
        "8. How is encapsulation achieved in Python?\n",
        "\n",
        "  - encapsulation in pyhon is a method of binding the data with a local variable protecting it from a direct access it can be achieved through using single underscore(_) or double underscore(__) and can be extracted or called using getter function and created using a setter function.\n",
        "\n",
        "9. What is a constructor in Python?\n",
        "\n",
        "  - a constructor in python is created using built in keyword called __init__ it initializes the object automatically when called.it is also called as special method,magic keyword and dunder method.\n",
        "\n",
        "\n",
        "10. What are class and static methods in Python?\n",
        "\n",
        "  - a class method in python takes the the class itself as an argument using @classmethod and takes cls as the first parameter,it is a type of decorator in python.<br>e.g<br>\n",
        "  class MyClass:<br>\n",
        "    count = 0 <br>\n",
        "\n",
        "    @classmethod<br>\n",
        "    def show_count(cls):<br>\n",
        "        \n",
        "        print(\"Class count is\", cls.count)\n",
        "  - a static method in python is a type of dunder method defined using @staticmethod decorator it behaves like a regular function inside a class and doesnt require any self or cls objects in it\n",
        "\n",
        "\n",
        "11. What is method overloading in Python?\n",
        "\n",
        "  - traditionally python doesnt allow direct method loading which is a feature that allows the function to take any number of data elements or variables as arguments without throwing an error there are 2 type of indirect method overload which are : <br>1. *args : which allows an argument to have any number of flexible length or data and accept it<br>2. **kwargs : this method allows the function to take any number of keyword arguments for example in a dictionary\n",
        "\n",
        "\n",
        "12. What is method overriding in OOP?\n",
        "\n",
        "  - overriding method in OOP concept refers to a child method who is inherited from a parent class redefines the parent attribute class data with its own while maintaining the same structure of the parent class such as functions,parameters,methods and return types.<br>e.g<br>class Animal:<br>\n",
        "    def speak(self):<br>\n",
        "        print(\"Animal speaks\")<br>\n",
        "\n",
        "class Dog(Animal):<br>\n",
        "    def speak(self):<br>\n",
        "        print(\"Dog barks\")<br>\n",
        "\n",
        "obj = Dog()<br>\n",
        "obj.speak() <br>\n",
        "\n",
        "13.What is a property decorator in Python?\n",
        "\n",
        "  - a property decorator in python is defined using @property it is a getter method in the context of encapsulation topic which helps in separating complex data to be accessed.\n",
        "  <br>e.g<br>class Person:<br>\n",
        "    def __init__(self, name):<br>\n",
        "        self._name = name<br>\n",
        "\n",
        "    @property<br>\n",
        "    def name(self):<br>\n",
        "        return self._name<br>\n",
        "\n",
        "p = Person(\"Alice\")<br>\n",
        "print(p.name)  # Accessed like an attribute<br>\n",
        "\n",
        "14. Why is polymorphism important in OOP?\n",
        "\n",
        "  - Polymorphism in python helps avoid the coders to write repeatedly promoting reusability and flexibility of a code this helps in handling objects of different class to be treated as one,also promoting generalization of certain section of code blocks making it easier to understand and segment.\n",
        "\n",
        "15.  What is an abstract class in Python?\n",
        "\n",
        "  - an abstract class is used to hide complex code and only the blueprint of the class be extracted for the use,abstract class is defined using the @abstractmethod keyword and is not supported by the python in default imported using import abc,abstract class cannot be directly instantiated.\n",
        "\n",
        "16. What are the advantages of OOP?\n",
        "\n",
        "  - reusability\n",
        "  - data hiding\n",
        "  - easier to maintain\n",
        "  - combats real world problems\n",
        "  - promotes modularity\n",
        "\n",
        "17. What is the difference between a class variable and an instance variable?\n",
        "\n",
        "  - a class variable is declared before a function definition and is shared or accessible among all the other methods and can be utilized.\n",
        "  - whereas an instance variable is particulary specific to a local class and is limited to itself and cannot be accessed outside the function or the class directly.\n",
        "\n",
        "18. What is multiple inheritance in Python?\n",
        "\n",
        "  - multiple inheritance refers to the trait of a child class sharing 2 or more parent class for its functioning.<br>e.g<br>class Dad:<br>\n",
        "    def bike(self):<br>\n",
        "        print(\"Dad's Royal Enfield\")<br>\n",
        "\n",
        "class Mom:<br>\n",
        "    def car(self):<br>\n",
        "        print(\"Mom's Swift\")<br>\n",
        "\n",
        "class Child(Dad, Mom):  # Multiple inheritance<br>\n",
        "    def own_vehicle(self):<br>\n",
        "        print(\"Child's bicycle\")<br>\n",
        "\n",
        "c = Child()<br>\n",
        "c.bike()          # Inherited from Dad<br>\n",
        "c.car()           # Inherited from Mom<br>\n",
        "c.own_vehicle()   # Child's own method<br>\n",
        "\n",
        "19. Explain the purpose of __str__ and __repr__ methods in Python.\n",
        "\n",
        "  - __str__ is a dunder method used to print string version of the object to display the data to the user\n",
        "  - __repr__ is also a dunder method used to print more detailed string representation which is unambiguous of the class.\n",
        "\n",
        "20. What is the significance of the super() function in Python?\n",
        "\n",
        "  - super() is a keyword in python used to trace back to the base parent class or the original source class useful in constructors and overridden methods to ensure the parent class implementation in it.<br>e.g<br>lass Parent:\n",
        "    def show(self):<br>\n",
        "        print(\"Parent\")<br>\n",
        "\n",
        "class Child(Parent):<br>\n",
        "    def show(self):<br>\n",
        "        super().show()<br>\n",
        "        print(\"Child\")<br>\n",
        "\n",
        "c = Child()<br>\n",
        "c.show()<br>\n",
        "\n",
        "21. What is the significance of the __del__ method in Python?\n",
        "\n",
        "  - __del__ method in python is commonly used for deleting or destroying an object as it acts an destructor in a class function\n",
        "\n",
        "22. What is the difference between @staticmethod and @classmethod in Python?\n",
        "\n",
        "  - @staticmethod is a part of the decorators in python, a staticmethod doesnt take any argument such as cls or self in it as it acts as an independent function.\n",
        "  - whereas a @classmethod is designed to take the class itself as an argument in it at first using cls in the function\n",
        "\n",
        "23. How does polymorphism work in Python with inheritance?\n",
        "\n",
        "  - polymorphism in inheritance allows subclasses to define methods that override base class methods.this helps when the object is called based on the This helps in avoiding a long and complex set of codes, promoting reusability  and flexibility.\n",
        "\n",
        "24. What is method chaining in Python OOP?\n",
        "\n",
        "  - method chaining refers to the calling of multiple methods of a single object itself.<br>e.g<br>\n",
        "  class MyClass:<br>\n",
        "    def step1(self):<br>\n",
        "        print(\"Step 1\")<br>\n",
        "        return self<br>\n",
        "    def step2(self):<br>\n",
        "        print(\"Step 2\")<br>\n",
        "        return self<br>\n",
        "\n",
        "obj = MyClass()<br>\n",
        "obj.step1().step2()<br>\n",
        "\n",
        "25. What is the purpose of the __call__ method in Python?\n",
        "\n",
        "  - a __call__ method is a special dunder method which allows an method of a class to called directly through the class name via an object like an independent function.<br>e.g<br>\n",
        "  class Greet:<br>\n",
        "    def __call__(self, name):<br>\n",
        "        print(f\"Hello, {name}!\")<br>\n",
        "\n",
        "g = Greet()<br>\n",
        "g(\"John\")  # Output: Hello, John!"
      ],
      "metadata": {
        "id": "iXDeslN4Zclu"
      }
    },
    {
      "cell_type": "markdown",
      "source": [
        "#Practical Questions"
      ],
      "metadata": {
        "id": "MRTcFZqzEhL9"
      }
    },
    {
      "cell_type": "markdown",
      "source": [
        " 1. Create a parent class Animal with a method speak() that prints a generic message. Create a child class Dog\n",
        "that overrides the speak() method to print \"Bark!\"."
      ],
      "metadata": {
        "id": "WubCx0wREcWB"
      }
    },
    {
      "cell_type": "code",
      "source": [
        "class Animal:\n",
        "    def speak(self):\n",
        "        print(\"This is a generic animal sound.\")\n",
        "\n",
        "class Dog(Animal):\n",
        "    def speak(self):\n",
        "        print(\"Bark!\")\n",
        "\n",
        "# Test\n",
        "a = Animal()\n",
        "a.speak()\n",
        "\n",
        "d = Dog()\n",
        "d.speak()\n"
      ],
      "metadata": {
        "colab": {
          "base_uri": "https://localhost:8080/"
        },
        "id": "mvLdpkJn9Jun",
        "outputId": "9f9787c3-4b1e-47ab-8b26-36aa485f8f6f"
      },
      "execution_count": null,
      "outputs": [
        {
          "output_type": "stream",
          "name": "stdout",
          "text": [
            "This is a generic animal sound.\n",
            "Bark!\n"
          ]
        }
      ]
    },
    {
      "cell_type": "markdown",
      "source": [
        " 2. Write a program to create an abstract class Shape with a method area(). Derive classes Circle and Rectangle\n",
        "from it and implement the area() method in both."
      ],
      "metadata": {
        "id": "xmIxZzDWEpGW"
      }
    },
    {
      "cell_type": "code",
      "source": [
        "from abc import ABC, abstractmethod\n",
        "\n",
        "class Shape(ABC):\n",
        "    @abstractmethod\n",
        "    def area(self):\n",
        "        pass\n",
        "\n",
        "class Circle(Shape):\n",
        "    def __init__(self, radius):\n",
        "        self.radius = radius\n",
        "\n",
        "    def area(self):\n",
        "        return 3.14 * self.radius * self.radius\n",
        "\n",
        "class Rectangle(Shape):\n",
        "    def __init__(self, length, breadth):\n",
        "        self.length = length\n",
        "        self.breadth = breadth\n",
        "\n",
        "    def area(self):\n",
        "        return self.length * self.breadth\n",
        "\n",
        "# Test\n",
        "c = Circle(5)\n",
        "print(\"Circle area:\", c.area())\n",
        "\n",
        "r = Rectangle(4, 5)\n",
        "print(\"Rectangle area:\", r.area())\n"
      ],
      "metadata": {
        "id": "wGe4UUrBEpPl",
        "colab": {
          "base_uri": "https://localhost:8080/"
        },
        "outputId": "3906a3df-581f-42e5-90cc-b4200addc956"
      },
      "execution_count": null,
      "outputs": [
        {
          "output_type": "stream",
          "name": "stdout",
          "text": [
            "Circle area: 78.5\n",
            "Rectangle area: 20\n"
          ]
        }
      ]
    },
    {
      "cell_type": "markdown",
      "source": [
        " 3. Implement a multi-level inheritance scenario where a class Vehicle has an attribute type. Derive a class Car\n",
        "and further derive a class ElectricCar that adds a battery attribute"
      ],
      "metadata": {
        "id": "uvQZRKxpEphB"
      }
    },
    {
      "cell_type": "code",
      "source": [
        "class Vehicle:\n",
        "    def __init__(self, brand):\n",
        "        self.brand = brand\n",
        "\n",
        "class Car(Vehicle):\n",
        "    def __init__(self, brand, model):\n",
        "        super().__init__(brand)\n",
        "        self.model = model\n",
        "\n",
        "class ElectricCar(Car):\n",
        "    def __init__(self, brand, model, battery_capacity):\n",
        "        super().__init__(brand, model)\n",
        "        self.battery_capacity = battery_capacity\n",
        "\n",
        "# Test\n",
        "ecar = ElectricCar(\"Tesla\", \"Model S\", \"100 kWh\")\n",
        "print(ecar.brand, ecar.model, ecar.battery_capacity)\n"
      ],
      "metadata": {
        "id": "9xsr_j-IEpr2",
        "colab": {
          "base_uri": "https://localhost:8080/"
        },
        "outputId": "f2107cc2-5567-4dc5-9cfa-d48f68f75467"
      },
      "execution_count": 1,
      "outputs": [
        {
          "output_type": "stream",
          "name": "stdout",
          "text": [
            "Tesla Model S 100 kWh\n"
          ]
        }
      ]
    },
    {
      "cell_type": "markdown",
      "source": [
        " 4. Demonstrate polymorphism by creating a base class Bird with a method fly(). Create two derived classes\n",
        "Sparrow and Penguin that override the fly() method."
      ],
      "metadata": {
        "id": "672wxu3BEvHd"
      }
    },
    {
      "cell_type": "code",
      "source": [
        "class Bird:\n",
        "    def fly(self):\n",
        "        print(\"Some birds can fly.\")\n",
        "\n",
        "class Sparrow(Bird):\n",
        "    def fly(self):\n",
        "        print(\"Sparrow can fly high.\")\n",
        "\n",
        "class Penguin(Bird):\n",
        "    def fly(self):\n",
        "        print(\"Penguins can't fly.\")\n",
        "\n",
        "# Test\n",
        "birds = [Sparrow(), Penguin()]\n",
        "for bird in birds:\n",
        "    bird.fly()\n"
      ],
      "metadata": {
        "id": "OUJGBfCiEvPz",
        "colab": {
          "base_uri": "https://localhost:8080/"
        },
        "outputId": "09003d2b-a386-4450-f89c-80622a5c5847"
      },
      "execution_count": 2,
      "outputs": [
        {
          "output_type": "stream",
          "name": "stdout",
          "text": [
            "Sparrow can fly high.\n",
            "Penguins can't fly.\n"
          ]
        }
      ]
    },
    {
      "cell_type": "markdown",
      "source": [
        "5. Write a program to demonstrate encapsulation by creating a class BankAccount with private attributes\n",
        "balance and methods to deposit, withdraw, and check balance."
      ],
      "metadata": {
        "id": "-LY1RzwqEvba"
      }
    },
    {
      "cell_type": "code",
      "source": [
        "class BankAccount:\n",
        "    def __init__(self):\n",
        "        self.__balance = 0\n",
        "\n",
        "    def deposit(self, amount):\n",
        "        self.__balance += amount\n",
        "\n",
        "    def withdraw(self, amount):\n",
        "        if amount <= self.__balance:\n",
        "            self.__balance -= amount\n",
        "        else:\n",
        "            print(\"Insufficient balance!\")\n",
        "\n",
        "    def check_balance(self):\n",
        "        return self.__balance\n",
        "\n",
        "# Test\n",
        "account = BankAccount()\n",
        "account.deposit(1000)\n",
        "account.withdraw(500)\n",
        "print(\"Balance:\", account.check_balance())\n"
      ],
      "metadata": {
        "id": "YC7oaCKJEvhz"
      },
      "execution_count": null,
      "outputs": []
    },
    {
      "cell_type": "markdown",
      "source": [
        " 6. Demonstrate runtime polymorphism using a method play() in a base class Instrument. Derive classes Guitar\n",
        "and Piano that implement their own version of play()."
      ],
      "metadata": {
        "id": "GNCbMjn7EvsP"
      }
    },
    {
      "cell_type": "code",
      "source": [
        "class Instrument:\n",
        "    def play(self):\n",
        "        pass\n",
        "\n",
        "class Guitar(Instrument):\n",
        "    def play(self):\n",
        "        print(\"Strumming the guitar.\")\n",
        "\n",
        "class Piano(Instrument):\n",
        "    def play(self):\n",
        "        print(\"Playing the piano.\")\n",
        "\n",
        "# Test\n",
        "for instrument in [Guitar(), Piano()]:\n",
        "    instrument.play()\n"
      ],
      "metadata": {
        "id": "wC99dOu6Ev5J",
        "colab": {
          "base_uri": "https://localhost:8080/"
        },
        "outputId": "c7e8e6aa-e8dd-4b4e-91f0-3ff944287732"
      },
      "execution_count": 3,
      "outputs": [
        {
          "output_type": "stream",
          "name": "stdout",
          "text": [
            "Strumming the guitar.\n",
            "Playing the piano.\n"
          ]
        }
      ]
    },
    {
      "cell_type": "markdown",
      "source": [
        " 7. Create a class MathOperations with a class method add_numbers() to add two numbers and a static\n",
        "method subtract_numbers() to subtract two numbers."
      ],
      "metadata": {
        "id": "BhRu0e9SE4lX"
      }
    },
    {
      "cell_type": "code",
      "source": [
        "class MathOperations:\n",
        "    @classmethod\n",
        "    def add_numbers(cls, a, b):\n",
        "        return a + b\n",
        "\n",
        "    @staticmethod\n",
        "    def subtract_numbers(a, b):\n",
        "        return a - b\n",
        "\n",
        "# Test\n",
        "print(MathOperations.add_numbers(5, 3))\n",
        "print(MathOperations.subtract_numbers(5, 3))\n"
      ],
      "metadata": {
        "id": "t44fOPE8E4uh",
        "colab": {
          "base_uri": "https://localhost:8080/"
        },
        "outputId": "1857e011-8af4-4056-fb25-4d162b1a0780"
      },
      "execution_count": 4,
      "outputs": [
        {
          "output_type": "stream",
          "name": "stdout",
          "text": [
            "8\n",
            "2\n"
          ]
        }
      ]
    },
    {
      "cell_type": "markdown",
      "source": [
        " 8. Implement a class Person with a class method to count the total number of persons created."
      ],
      "metadata": {
        "id": "I2burtadE5pP"
      }
    },
    {
      "cell_type": "code",
      "source": [
        "class Person:\n",
        "    count = 0\n",
        "\n",
        "    def __init__(self):\n",
        "        Person.count += 1\n",
        "\n",
        "# Test\n",
        "p1 = Person()\n",
        "p2 = Person()\n",
        "p3 = Person()\n",
        "print(\"Total persons:\", Person.count)\n"
      ],
      "metadata": {
        "id": "li6qvu_PE5yf",
        "colab": {
          "base_uri": "https://localhost:8080/"
        },
        "outputId": "4d783f92-c2b6-45ba-bf2c-9184e08bf398"
      },
      "execution_count": 5,
      "outputs": [
        {
          "output_type": "stream",
          "name": "stdout",
          "text": [
            "Total persons: 3\n"
          ]
        }
      ]
    },
    {
      "cell_type": "markdown",
      "source": [
        " 9. Write a class Fraction with attributes numerator and denominator. Override the str method to display the\n",
        "fraction as \"numerator/denominator\""
      ],
      "metadata": {
        "id": "nEQSfX4fE58L"
      }
    },
    {
      "cell_type": "code",
      "source": [
        "class Fraction:\n",
        "    def __init__(self, numerator, denominator):\n",
        "        self.numerator = numerator\n",
        "        self.denominator = denominator\n",
        "\n",
        "    def __str__(self):\n",
        "        return f\"{self.numerator}/{self.denominator}\"\n",
        "\n",
        "# Test\n",
        "f = Fraction(3, 4)\n",
        "print(\"Fraction is:\", f)\n"
      ],
      "metadata": {
        "id": "mTNHcwVdE6HB",
        "colab": {
          "base_uri": "https://localhost:8080/"
        },
        "outputId": "591cc6d7-e56d-4ccc-a35d-5f2d46ab8336"
      },
      "execution_count": 6,
      "outputs": [
        {
          "output_type": "stream",
          "name": "stdout",
          "text": [
            "Fraction is: 3/4\n"
          ]
        }
      ]
    },
    {
      "cell_type": "markdown",
      "source": [
        "10. Demonstrate operator overloading by creating a class Vector and overriding the add method to add two\n",
        "vectors."
      ],
      "metadata": {
        "id": "_EakjXbzFDvM"
      }
    },
    {
      "cell_type": "code",
      "source": [
        "class Vector:\n",
        "    def __init__(self, x, y):\n",
        "        self.x = x\n",
        "        self.y = y\n",
        "\n",
        "    def __add__(self, other):\n",
        "        return Vector(self.x + other.x, self.y + other.y)\n",
        "\n",
        "    def __str__(self):\n",
        "        return f\"({self.x}, {self.y})\"\n",
        "\n",
        "# Test\n",
        "v1 = Vector(2, 3)\n",
        "v2 = Vector(4, 5)\n",
        "print(\"Result:\", v1 + v2)\n"
      ],
      "metadata": {
        "id": "zPrBz1nsFD6o",
        "colab": {
          "base_uri": "https://localhost:8080/"
        },
        "outputId": "10359cff-2352-4890-fab2-87c298b649f8"
      },
      "execution_count": 7,
      "outputs": [
        {
          "output_type": "stream",
          "name": "stdout",
          "text": [
            "Result: (6, 8)\n"
          ]
        }
      ]
    },
    {
      "cell_type": "markdown",
      "source": [
        " 11. Create a class Person with attributes name and age. Add a method greet() that prints \"Hello, my name is\n",
        "{name} and I am {age} years old.\""
      ],
      "metadata": {
        "id": "I3Yv1vZmFHZE"
      }
    },
    {
      "cell_type": "code",
      "source": [
        "class Person:\n",
        "    def __init__(self, name, age):\n",
        "        self.name = name\n",
        "        self.age = age\n",
        "\n",
        "    def greet(self):\n",
        "        print(f\"Hello, my name is {self.name} and I am {self.age} years old.\")\n",
        "\n",
        "# Test\n",
        "p = Person(\"John\", 25)\n",
        "p.greet()\n"
      ],
      "metadata": {
        "id": "vdQACO-6FHw1",
        "colab": {
          "base_uri": "https://localhost:8080/"
        },
        "outputId": "a5991b36-afcc-401c-f8e4-88176f5309f2"
      },
      "execution_count": 8,
      "outputs": [
        {
          "output_type": "stream",
          "name": "stdout",
          "text": [
            "Hello, my name is John and I am 25 years old.\n"
          ]
        }
      ]
    },
    {
      "cell_type": "markdown",
      "source": [
        " 12. Implement a class Student with attributes name and grades. Create a method average_grade() to compute\n",
        "the average of the grades."
      ],
      "metadata": {
        "id": "S0nR58ypFH7C"
      }
    },
    {
      "cell_type": "code",
      "source": [
        "class Student:\n",
        "    def __init__(self, name, grades):\n",
        "        self.name = name\n",
        "        self.grades = grades\n",
        "\n",
        "    def average_grade(self):\n",
        "        return sum(self.grades) / len(self.grades)\n",
        "\n",
        "# Test\n",
        "s = Student(\"Alice\", [85, 90, 78])\n",
        "print(f\"{s.name}'s average grade:\", s.average_grade())\n"
      ],
      "metadata": {
        "id": "L2hw1fNkFIFr",
        "colab": {
          "base_uri": "https://localhost:8080/"
        },
        "outputId": "aea7b206-4784-49b9-cd96-d3a89c180eb4"
      },
      "execution_count": 9,
      "outputs": [
        {
          "output_type": "stream",
          "name": "stdout",
          "text": [
            "Alice's average grade: 84.33333333333333\n"
          ]
        }
      ]
    },
    {
      "cell_type": "markdown",
      "source": [
        "13. Create a class Rectangle with methods set_dimensions() to set the dimensions and area() to calculate the\n",
        "area."
      ],
      "metadata": {
        "id": "8s2e99-CFINW"
      }
    },
    {
      "cell_type": "code",
      "source": [
        "class Rectangle:\n",
        "    def set_dimensions(self, length, width):\n",
        "        self.length = length\n",
        "        self.width = width\n",
        "\n",
        "    def area(self):\n",
        "        return self.length * self.width\n",
        "\n",
        "# Test\n",
        "r = Rectangle()\n",
        "r.set_dimensions(4, 5)\n",
        "print(\"Area of rectangle:\", r.area())\n"
      ],
      "metadata": {
        "id": "rYYL98rlFIaP",
        "colab": {
          "base_uri": "https://localhost:8080/"
        },
        "outputId": "ae3d8093-e888-4741-b377-827963c9b548"
      },
      "execution_count": 10,
      "outputs": [
        {
          "output_type": "stream",
          "name": "stdout",
          "text": [
            "Area of rectangle: 20\n"
          ]
        }
      ]
    },
    {
      "cell_type": "markdown",
      "source": [
        " 14. Create a class Employee with a method calculate_salary() that computes the salary based on hours worked\n",
        "and hourly rate. Create a derived class Manager that adds a bonus to the salary."
      ],
      "metadata": {
        "id": "9Rz296CfFJIL"
      }
    },
    {
      "cell_type": "code",
      "source": [
        "class Employee:\n",
        "    def __init__(self, hours_worked, hourly_rate):\n",
        "        self.hours_worked = hours_worked\n",
        "        self.hourly_rate = hourly_rate\n",
        "\n",
        "    def calculate_salary(self):\n",
        "        return self.hours_worked * self.hourly_rate\n",
        "\n",
        "class Manager(Employee):\n",
        "    def __init__(self, hours_worked, hourly_rate, bonus):\n",
        "        super().__init__(hours_worked, hourly_rate)\n",
        "        self.bonus = bonus\n",
        "\n",
        "    def calculate_salary(self):\n",
        "        return super().calculate_salary() + self.bonus\n",
        "\n",
        "# Test\n",
        "e = Employee(40, 200)\n",
        "print(\"Employee Salary:\", e.calculate_salary())\n",
        "\n",
        "m = Manager(40, 200, 5000)\n",
        "print(\"Manager Salary:\", m.calculate_salary())\n"
      ],
      "metadata": {
        "id": "i2lTGmzsFJSC",
        "colab": {
          "base_uri": "https://localhost:8080/"
        },
        "outputId": "700ba28b-3710-4937-e8bd-2090b34bf96a"
      },
      "execution_count": 11,
      "outputs": [
        {
          "output_type": "stream",
          "name": "stdout",
          "text": [
            "Employee Salary: 8000\n",
            "Manager Salary: 13000\n"
          ]
        }
      ]
    },
    {
      "cell_type": "markdown",
      "source": [
        "15. Create a class Product with attributes name, price, and quantity. Implement a method total_price() that\n",
        "calculates the total price of the product."
      ],
      "metadata": {
        "id": "RHE7dz5zFT67"
      }
    },
    {
      "cell_type": "code",
      "source": [
        "class Product:\n",
        "    def __init__(self, name, price, quantity):\n",
        "        self.name = name\n",
        "        self.price = price\n",
        "        self.quantity = quantity\n",
        "\n",
        "    def total_price(self):\n",
        "        return self.price * self.quantity\n",
        "\n",
        "# Test\n",
        "p = Product(\"Laptop\", 50000, 2)\n",
        "print(f\"Total price of {p.name}: ₹{p.total_price()}\")\n"
      ],
      "metadata": {
        "id": "QeWkOoFgFUH6",
        "colab": {
          "base_uri": "https://localhost:8080/"
        },
        "outputId": "dbb395c6-78dc-46b7-d2e9-49a47610242d"
      },
      "execution_count": 12,
      "outputs": [
        {
          "output_type": "stream",
          "name": "stdout",
          "text": [
            "Total price of Laptop: ₹100000\n"
          ]
        }
      ]
    },
    {
      "cell_type": "markdown",
      "source": [
        " 16. Create a class Animal with an abstract method sound(). Create two derived classes Cow and Sheep that\n",
        "implement the sound() method."
      ],
      "metadata": {
        "id": "HuJBOX6ZFU2S"
      }
    },
    {
      "cell_type": "code",
      "source": [
        "from abc import ABC, abstractmethod\n",
        "\n",
        "class Animal(ABC):\n",
        "    @abstractmethod\n",
        "    def sound(self):\n",
        "        pass\n",
        "\n",
        "class Cow(Animal):\n",
        "    def sound(self):\n",
        "        print(\"Cow says Moo!\")\n",
        "\n",
        "class Sheep(Animal):\n",
        "    def sound(self):\n",
        "        print(\"Sheep says Baa!\")\n",
        "\n",
        "# Test\n",
        "c = Cow()\n",
        "s = Sheep()\n",
        "c.sound()\n",
        "s.sound()\n"
      ],
      "metadata": {
        "id": "w4xo5eR8FU9v",
        "colab": {
          "base_uri": "https://localhost:8080/"
        },
        "outputId": "e0e75164-f816-4d03-a4bd-c7cc7c01fdeb"
      },
      "execution_count": 13,
      "outputs": [
        {
          "output_type": "stream",
          "name": "stdout",
          "text": [
            "Cow says Moo!\n",
            "Sheep says Baa!\n"
          ]
        }
      ]
    },
    {
      "cell_type": "markdown",
      "source": [
        " 17. Create a class Book with attributes title, author, and year_published. Add a method get_book_info() that\n",
        "returns a formatted string with the book's details."
      ],
      "metadata": {
        "id": "OzreP-ycFVJB"
      }
    },
    {
      "cell_type": "code",
      "source": [
        "class Book:\n",
        "    def __init__(self, title, author, year_published):\n",
        "        self.title = title\n",
        "        self.author = author\n",
        "        self.year_published = year_published\n",
        "\n",
        "    def get_book_info(self):\n",
        "        return f\"'{self.title}' by {self.author} ({self.year_published})\"\n",
        "\n",
        "# Test\n",
        "b = Book(\"The Alchemist\", \"Paulo Coelho\", 1988)\n",
        "print(b.get_book_info())\n"
      ],
      "metadata": {
        "id": "o2N0UKhZFVR6",
        "colab": {
          "base_uri": "https://localhost:8080/"
        },
        "outputId": "0c779bff-b85f-44a6-a510-7ad0408bc5ec"
      },
      "execution_count": 14,
      "outputs": [
        {
          "output_type": "stream",
          "name": "stdout",
          "text": [
            "'The Alchemist' by Paulo Coelho (1988)\n"
          ]
        }
      ]
    },
    {
      "cell_type": "markdown",
      "source": [
        " 18. Create a class House with attributes address and price. Create a derived class Mansion that adds an\n",
        "attribute number_of_rooms."
      ],
      "metadata": {
        "id": "6Ns8R6dPFVfu"
      }
    },
    {
      "cell_type": "code",
      "source": [
        "class Book:\n",
        "    def __init__(self, title, author, year_published):\n",
        "        self.title = title\n",
        "        self.author = author\n",
        "        self.year_published = year_published\n",
        "\n",
        "    def get_book_info(self):\n",
        "        return f\"'{self.title}' by {self.author} ({self.year_published})\"\n",
        "\n",
        "# Test\n",
        "b = Book(\"The Alchemist\", \"Paulo Coelho\", 1988)\n",
        "print(b.get_book_info())\n"
      ],
      "metadata": {
        "id": "oYDm1hWyFV1f",
        "colab": {
          "base_uri": "https://localhost:8080/"
        },
        "outputId": "62d3228c-3be6-4075-ea9d-ae382d6f163d"
      },
      "execution_count": 15,
      "outputs": [
        {
          "output_type": "stream",
          "name": "stdout",
          "text": [
            "'The Alchemist' by Paulo Coelho (1988)\n"
          ]
        }
      ]
    }
  ]
}